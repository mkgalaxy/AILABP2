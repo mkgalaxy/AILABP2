{
 "cells": [
  {
   "cell_type": "code",
   "execution_count": 12,
   "id": "cf1f2891-8fcb-4de7-acc2-a2482ad13229",
   "metadata": {},
   "outputs": [
    {
     "name": "stdout",
     "output_type": "stream",
     "text": [
      "0.012\n",
      "0.02376\n",
      "0.0352848\n",
      "0.046579103999999996\n",
      "0.05764752192\n",
      "0.0684945714816\n",
      "0.079124680051968\n",
      "0.08954218645092864\n",
      "0.09975134272191007\n",
      "0.10975631586747187\n"
     ]
    }
   ],
   "source": [
    "d=[(1,3),(3,1)]\n",
    "a= 0.001\n",
    "m= 0\n",
    "def dm(d,m):\n",
    "    z=0\n",
    "    for x,y in d:\n",
    "        mk= -2*(x*(y-m*x))\n",
    "        z=z+ mk\n",
    "    return z\n",
    "for i in range(10):\n",
    "    grad = dm(d,m)\n",
    "    m= m-a*grad\n",
    "    print(m) # فقط محاسبه dm"
   ]
  },
  {
   "cell_type": "code",
   "execution_count": 13,
   "id": "241abdaa-106c-4f9e-9a44-cb51e7800e06",
   "metadata": {},
   "outputs": [
    {
     "name": "stdout",
     "output_type": "stream",
     "text": [
      "0.008\n",
      "0.015968\n",
      "0.023904128\n",
      "0.031808511488\n",
      "0.039681277442047996\n",
      "0.047522552332279804\n",
      "0.05533246212295068\n",
      "0.06311113227445889\n",
      "0.07085868774536105\n",
      "0.0785752529943796\n"
     ]
    }
   ],
   "source": [
    "d = [(1,3),(3,1)]\n",
    "a = 0.001\n",
    "m = 0\n",
    "b = 0\n",
    "\n",
    "def db(d, m, b):\n",
    "    z = 0\n",
    "    for x, y in d:\n",
    "        z += -2 * (y - (m * x + b))\n",
    "    return z\n",
    "\n",
    "for i in range(10):\n",
    "    grad = db(d, m, b)\n",
    "    b = b - a * grad\n",
    "    print(b) # فقط محاسبه db "
   ]
  },
  {
   "cell_type": "code",
   "execution_count": 15,
   "id": "a22bd620-2b87-459a-a7ea-2f0008620d56",
   "metadata": {},
   "outputs": [
    {
     "name": "stdout",
     "output_type": "stream",
     "text": [
      "dm = 0.012 db= 0.008\n",
      "dm = 0.023696000000000002 db= 0.015872\n",
      "dm = 0.035095104 db= 0.023618944000000003\n",
      "dm = 0.046204250368 db= 0.031243707392000004\n",
      "dm = 0.057030215701504 db= 0.03874909855948801\n",
      "dm = 0.06757961859899803 db= 0.04613786043963802\n",
      "dm = 0.07785892334350096 db= 0.053412672049087485\n",
      "dm = 0.08787444350023824 db= 0.06057614997414313\n",
      "dm = 0.09763234543044033 db= 0.06763084982624465\n",
      "dm = 0.10713865172322157 db= 0.07457926766349615\n"
     ]
    }
   ],
   "source": [
    "d = [(1,3),(3,1)]\n",
    "a = 0.001\n",
    "m = 0\n",
    "b = 0\n",
    "\n",
    "def dm_db(d, m, b):\n",
    "    dm = 0\n",
    "    db = 0\n",
    "    for x, y in d:\n",
    "        dm += -2 * x * (y - (m * x + b))\n",
    "        db += -2 * (y - (m * x + b))\n",
    "    return dm, db\n",
    "\n",
    "for i in range(10):\n",
    "    dm, db = dm_db(d, m, b)\n",
    "    m = m - a * dm\n",
    "    b = b - a * db\n",
    "    print(\"dm =\",m,\"db=\", b) # محاسبه هر دو"
   ]
  },
  {
   "cell_type": "code",
   "execution_count": null,
   "id": "9c47c987-1aa6-4754-b7b3-72f3cb8c8855",
   "metadata": {},
   "outputs": [],
   "source": []
  }
 ],
 "metadata": {
  "kernelspec": {
   "display_name": "Python [conda env:miniconda3]",
   "language": "python",
   "name": "conda-env-miniconda3-py"
  },
  "language_info": {
   "codemirror_mode": {
    "name": "ipython",
    "version": 3
   },
   "file_extension": ".py",
   "mimetype": "text/x-python",
   "name": "python",
   "nbconvert_exporter": "python",
   "pygments_lexer": "ipython3",
   "version": "3.12.4"
  }
 },
 "nbformat": 4,
 "nbformat_minor": 5
}
