{
 "cells": [
  {
   "cell_type": "code",
   "execution_count": 1,
   "id": "fe5c9a83-6655-4ba7-ad53-c50f57f1945b",
   "metadata": {},
   "outputs": [],
   "source": [
    "def f(w, x, y):\n",
    "    return sum((y[i] - w * x[i])**2 for i in range(len(x))) #تابع sum مثل زیگما کار می کنه و دقیقا همون فرمول پیاده سازی کرد\n",
    "    "
   ]
  },
  {
   "cell_type": "code",
   "execution_count": 7,
   "id": "e0541b88-c86b-4ca9-9079-b9efc90c7759",
   "metadata": {},
   "outputs": [
    {
     "name": "stdout",
     "output_type": "stream",
     "text": [
      "30.5625\n"
     ]
    }
   ],
   "source": [
    "x=[2,1.5,3.25] # مقادیری که به x دادم\n",
    "y=[2,5,1.75] # مقادیری که به Y دادم\n",
    "print(f(2, x, y))"
   ]
  },
  {
   "cell_type": "code",
   "execution_count": null,
   "id": "d4576c45-bb80-4868-a913-e5d9d72729f2",
   "metadata": {},
   "outputs": [],
   "source": []
  }
 ],
 "metadata": {
  "kernelspec": {
   "display_name": "Python 3 (ipykernel)",
   "language": "python",
   "name": "python3"
  },
  "language_info": {
   "codemirror_mode": {
    "name": "ipython",
    "version": 3
   },
   "file_extension": ".py",
   "mimetype": "text/x-python",
   "name": "python",
   "nbconvert_exporter": "python",
   "pygments_lexer": "ipython3",
   "version": "3.13.0"
  }
 },
 "nbformat": 4,
 "nbformat_minor": 5
}
