{
 "cells": [
  {
   "cell_type": "code",
   "execution_count": null,
   "id": "881c1c54-c01b-4faa-9c25-14913932a94e",
   "metadata": {},
   "outputs": [],
   "source": [
    "def dynamic(s,t):\n",
    "    def rec(m,n):\n",
    "        if m == 0:\n",
    "            result = n\n",
    "        elif n == 0:\n",
    "            result = m\n",
    "        elif s[m-1] == t[n-1]:\n",
    "            result = rec(m-1, n-1)\n",
    "        else:\n",
    "            su = 1 + rec(m-1, n-1)\n",
    "            i = 1 + rec(m, n-1)\n",
    "            d = 1 + rec(m-1, n)\n",
    "            result = min(su, i, d)\n",
    "        return result\n",
    "    return rec(len(s), len(t))\n"
   ]
  },
  {
   "cell_type": "code",
   "execution_count": null,
   "id": "ba2090bf-06db-401b-95b5-a00c816bedd6",
   "metadata": {},
   "outputs": [],
   "source": [
    "dynamic(\"CA!\", \"DA!\")"
   ]
  },
  {
   "cell_type": "code",
   "execution_count": 3,
   "id": "cd660290-9005-41db-86c0-2bee31b58c4c",
   "metadata": {},
   "outputs": [],
   "source": [
    "# این کد با کد سلول بالا یک نتیجه دارد اما فقط جای result از return استفاده شده\n",
    "def dynamic(s, t):\n",
    "    def rec(m, n):\n",
    "        if m == 0:\n",
    "            return n # دقیقا اینجا جای متغییر result از return استفاده شده\n",
    "        elif n == 0:\n",
    "            return m\n",
    "        elif s[m - 1] == t[n - 1]:\n",
    "            return rec(m - 1, n - 1)\n",
    "        else:\n",
    "            su = 1 + rec(m - 1, n - 1)\n",
    "            i = 1 + rec(m, n - 1)\n",
    "            d = 1 + rec(m - 1, n)\n",
    "            return min(su, i, d)\n",
    "    return rec(len(s), len(t))"
   ]
  },
  {
   "cell_type": "code",
   "execution_count": 4,
   "id": "0562c8c5-a014-42ef-880b-54e36ea1d25d",
   "metadata": {},
   "outputs": [
    {
     "data": {
      "text/plain": [
       "1"
      ]
     },
     "execution_count": 4,
     "metadata": {},
     "output_type": "execute_result"
    }
   ],
   "source": [
    "dynamic(\"CA!\", \"BA!\")\n"
   ]
  },
  {
   "cell_type": "code",
   "execution_count": null,
   "id": "8acea287-0381-4cae-a2e0-b624ce548512",
   "metadata": {},
   "outputs": [],
   "source": []
  }
 ],
 "metadata": {
  "kernelspec": {
   "display_name": "Python 3 (ipykernel)",
   "language": "python",
   "name": "python3"
  },
  "language_info": {
   "codemirror_mode": {
    "name": "ipython",
    "version": 3
   },
   "file_extension": ".py",
   "mimetype": "text/x-python",
   "name": "python",
   "nbconvert_exporter": "python",
   "pygments_lexer": "ipython3",
   "version": "3.13.2"
  }
 },
 "nbformat": 4,
 "nbformat_minor": 5
}
